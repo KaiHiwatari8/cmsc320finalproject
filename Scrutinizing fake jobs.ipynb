{
 "cells": [
  {
   "cell_type": "markdown",
   "metadata": {
    "id": "5jxj9rbCIKJT"
   },
   "source": [
    "# Scrutinizing the Fake Job Postings Posted Between 2012 and 2014\n",
    "\n",
    "-By Jaykumar Prajapati"
   ]
  },
  {
   "cell_type": "markdown",
   "metadata": {
    "id": "I_EYArwXI-wJ"
   },
   "source": [
    "## A. Introduction\n",
    "\n",
    "In this project, I aim at scrutinizing the relationship between fake job postings and several details on the job ads. These ad details are:\n",
    "\n",
    "1. if the ad has screening questions.\n",
    "2. employment type (full-time, part-time, temporary, other).\n",
    "3. if the job is remote.\n",
    "4. amount of missing details. \n",
    "\n",
    "### A.1 Context\n",
    "\n",
    "We encounter many fake job postings through various means such as online job portals, spam emails, spam calls, newspaper ads, etc. But, it can be difficult to differentiate between a legitimate and a fake ad. Often desperate people fall into these traps and lose money and personal information such as bank account numbers, social security numbers, phone numbers, etc. \n",
    "\n",
    "With this project, I want to explore my curiosity about the relationship between the authenticity of a job ad and:\n",
    "\n",
    "**1. Presence of screening questions:**  \n",
    "Often, the fake job ads skip the part of screening questions to quicken the hiring process and gather the details of a person as fast as possible.\n",
    "\n",
    "\n",
    "**2. Employment type:**  \n",
    "Fraudsters lure people into the fraud by the greed of extra money. Extra money is either greed or need for someone. So, the fraudulent job ads are mostly part-time. If not and the job is full-time, it maybe a high paying one at entry level. Suspicious, right?\n",
    "\n",
    "\n",
    "**3. Remoteness of the job:**  \n",
    "Fake remote jobs are also in news because the remoteness of the job attracts people by not requiring to commute. Peopl think of this as a good opportunity for making a few bucks at home.\n",
    "\n",
    "**4. Amount of missing details:**  \n",
    "In most cases, fake job ads do not contain much information and just sound like \"Urgently required! Competitive pay. No experience needed. Contact#: ...\". It is suspicious that the experience is not needed. This makes me wonder who their target audience is."
   ]
  },
  {
   "cell_type": "markdown",
   "metadata": {},
   "source": [
    "## B. The Dataset\n",
    "\n",
    "The dataset I used is a publicly available dataset called Employment Scam Aegean Dataset or _EMSCAD_ (Link [here](http://emscad.samos.aegean.gr/)). EMSCAD is hosted by the Laboratory of Information & Communication System Security at the University of the Aegean. According to their official documentation, the dataset contains 17,014 legititmate and 866 fake jobs posted between 2012 and 2014.\n",
    "\n",
    "### B.1 Dataset Description\n",
    "\n",
    "This dataset description is in accordance with the description given on the official page (Link [here](http://emscad.samos.aegean.gr/) again). \n",
    "\n",
    "**String type:**\n",
    "\n",
    " * **Title:** The title of the job ad entry.\n",
    " * **Location:** Geographical location of the job ad.\n",
    " * **Department:** Corporate department.\n",
    " * **Salary range:** Indicative salary range.\n",
    " \n",
    "**HTML Fragment:**\n",
    "\n",
    " * **Company Profile:** A brief company description.\n",
    " * **Description:** The details description of the job ad.\n",
    " * **Requirements:** Enlisted requirements for the job opening.\n",
    " * **Benefits:** Enlisted offered benefits by the employer.\n",
    " \n",
    "**Binary**\n",
    "\n",
    " * **Telecommuting:** True for telecommuting positions.\n",
    " * **Company logo:** True if company has a logo.\n",
    " * **Questions:** True if screening questions are present.\n",
    " * **Fraudulent:** Classification attribute. \n",
    " * **In balanced:** Selected for the balanced dataset.\n",
    "\n",
    "**Nominal**\n",
    "\n",
    " * **Employment type:** Full-time, part-time, Contract, etc.\n",
    " * **Required experience:** Executive, Entry level, Intern, etc.\n",
    " * **Required education:** Doctorate, Master's Degree, Bachelor, etc.\n",
    " * **Industry:** Automotive, IT, Health care, Real estate, etc.\n",
    " * **Function:** Consulting, Engineering, Research, Sales, etc.\n",
    " \n",
    "\n",
    "### B.2 Dataset Citation\n",
    "\n",
    "_Employment Scam Aegean Dataset_. Laboratory of Information & Communication System Security at the Univeristy of the Aegean. http://emscad.samos.aegean.gr/\n"
   ]
  },
  {
   "cell_type": "markdown",
   "metadata": {},
   "source": [
    "### B.3 Preparing the Dataset\n",
    "\n",
    "In this step, I attempt to read the _EMSCAD_ CSV file into a Pandas Dataframe. "
   ]
  },
  {
   "cell_type": "code",
   "execution_count": 1,
   "metadata": {},
   "outputs": [],
   "source": [
    "import pandas as pd\n",
    "import numpy as np\n",
    "\n",
    "fake_jobs = pd.read_csv(\"fake_job_postings.csv\")"
   ]
  },
  {
   "cell_type": "code",
   "execution_count": 2,
   "metadata": {
    "id": "Py2_PLhcDwNi"
   },
   "outputs": [
    {
     "data": {
      "text/html": [
       "<div>\n",
       "<style scoped>\n",
       "    .dataframe tbody tr th:only-of-type {\n",
       "        vertical-align: middle;\n",
       "    }\n",
       "\n",
       "    .dataframe tbody tr th {\n",
       "        vertical-align: top;\n",
       "    }\n",
       "\n",
       "    .dataframe thead th {\n",
       "        text-align: right;\n",
       "    }\n",
       "</style>\n",
       "<table border=\"1\" class=\"dataframe\">\n",
       "  <thead>\n",
       "    <tr style=\"text-align: right;\">\n",
       "      <th></th>\n",
       "      <th>job_id</th>\n",
       "      <th>title</th>\n",
       "      <th>location</th>\n",
       "      <th>department</th>\n",
       "      <th>salary_range</th>\n",
       "      <th>company_profile</th>\n",
       "      <th>description</th>\n",
       "      <th>requirements</th>\n",
       "      <th>benefits</th>\n",
       "      <th>telecommuting</th>\n",
       "      <th>has_company_logo</th>\n",
       "      <th>has_questions</th>\n",
       "      <th>employment_type</th>\n",
       "      <th>required_experience</th>\n",
       "      <th>required_education</th>\n",
       "      <th>industry</th>\n",
       "      <th>function</th>\n",
       "      <th>fraudulent</th>\n",
       "    </tr>\n",
       "  </thead>\n",
       "  <tbody>\n",
       "    <tr>\n",
       "      <th>0</th>\n",
       "      <td>1</td>\n",
       "      <td>Marketing Intern</td>\n",
       "      <td>US, NY, New York</td>\n",
       "      <td>Marketing</td>\n",
       "      <td>NaN</td>\n",
       "      <td>We're Food52, and we've created a groundbreaki...</td>\n",
       "      <td>Food52, a fast-growing, James Beard Award-winn...</td>\n",
       "      <td>Experience with content management systems a m...</td>\n",
       "      <td>NaN</td>\n",
       "      <td>0</td>\n",
       "      <td>1</td>\n",
       "      <td>0</td>\n",
       "      <td>Other</td>\n",
       "      <td>Internship</td>\n",
       "      <td>NaN</td>\n",
       "      <td>NaN</td>\n",
       "      <td>Marketing</td>\n",
       "      <td>0</td>\n",
       "    </tr>\n",
       "    <tr>\n",
       "      <th>1</th>\n",
       "      <td>2</td>\n",
       "      <td>Customer Service - Cloud Video Production</td>\n",
       "      <td>NZ, , Auckland</td>\n",
       "      <td>Success</td>\n",
       "      <td>NaN</td>\n",
       "      <td>90 Seconds, the worlds Cloud Video Production ...</td>\n",
       "      <td>Organised - Focused - Vibrant - Awesome!Do you...</td>\n",
       "      <td>What we expect from you:Your key responsibilit...</td>\n",
       "      <td>What you will get from usThrough being part of...</td>\n",
       "      <td>0</td>\n",
       "      <td>1</td>\n",
       "      <td>0</td>\n",
       "      <td>Full-time</td>\n",
       "      <td>Not Applicable</td>\n",
       "      <td>NaN</td>\n",
       "      <td>Marketing and Advertising</td>\n",
       "      <td>Customer Service</td>\n",
       "      <td>0</td>\n",
       "    </tr>\n",
       "    <tr>\n",
       "      <th>2</th>\n",
       "      <td>3</td>\n",
       "      <td>Commissioning Machinery Assistant (CMA)</td>\n",
       "      <td>US, IA, Wever</td>\n",
       "      <td>NaN</td>\n",
       "      <td>NaN</td>\n",
       "      <td>Valor Services provides Workforce Solutions th...</td>\n",
       "      <td>Our client, located in Houston, is actively se...</td>\n",
       "      <td>Implement pre-commissioning and commissioning ...</td>\n",
       "      <td>NaN</td>\n",
       "      <td>0</td>\n",
       "      <td>1</td>\n",
       "      <td>0</td>\n",
       "      <td>NaN</td>\n",
       "      <td>NaN</td>\n",
       "      <td>NaN</td>\n",
       "      <td>NaN</td>\n",
       "      <td>NaN</td>\n",
       "      <td>0</td>\n",
       "    </tr>\n",
       "    <tr>\n",
       "      <th>3</th>\n",
       "      <td>4</td>\n",
       "      <td>Account Executive - Washington DC</td>\n",
       "      <td>US, DC, Washington</td>\n",
       "      <td>Sales</td>\n",
       "      <td>NaN</td>\n",
       "      <td>Our passion for improving quality of life thro...</td>\n",
       "      <td>THE COMPANY: ESRI – Environmental Systems Rese...</td>\n",
       "      <td>EDUCATION: Bachelor’s or Master’s in GIS, busi...</td>\n",
       "      <td>Our culture is anything but corporate—we have ...</td>\n",
       "      <td>0</td>\n",
       "      <td>1</td>\n",
       "      <td>0</td>\n",
       "      <td>Full-time</td>\n",
       "      <td>Mid-Senior level</td>\n",
       "      <td>Bachelor's Degree</td>\n",
       "      <td>Computer Software</td>\n",
       "      <td>Sales</td>\n",
       "      <td>0</td>\n",
       "    </tr>\n",
       "    <tr>\n",
       "      <th>4</th>\n",
       "      <td>5</td>\n",
       "      <td>Bill Review Manager</td>\n",
       "      <td>US, FL, Fort Worth</td>\n",
       "      <td>NaN</td>\n",
       "      <td>NaN</td>\n",
       "      <td>SpotSource Solutions LLC is a Global Human Cap...</td>\n",
       "      <td>JOB TITLE: Itemization Review ManagerLOCATION:...</td>\n",
       "      <td>QUALIFICATIONS:RN license in the State of Texa...</td>\n",
       "      <td>Full Benefits Offered</td>\n",
       "      <td>0</td>\n",
       "      <td>1</td>\n",
       "      <td>1</td>\n",
       "      <td>Full-time</td>\n",
       "      <td>Mid-Senior level</td>\n",
       "      <td>Bachelor's Degree</td>\n",
       "      <td>Hospital &amp; Health Care</td>\n",
       "      <td>Health Care Provider</td>\n",
       "      <td>0</td>\n",
       "    </tr>\n",
       "  </tbody>\n",
       "</table>\n",
       "</div>"
      ],
      "text/plain": [
       "   job_id                                      title            location  \\\n",
       "0       1                           Marketing Intern    US, NY, New York   \n",
       "1       2  Customer Service - Cloud Video Production      NZ, , Auckland   \n",
       "2       3    Commissioning Machinery Assistant (CMA)       US, IA, Wever   \n",
       "3       4          Account Executive - Washington DC  US, DC, Washington   \n",
       "4       5                        Bill Review Manager  US, FL, Fort Worth   \n",
       "\n",
       "  department salary_range                                    company_profile  \\\n",
       "0  Marketing          NaN  We're Food52, and we've created a groundbreaki...   \n",
       "1    Success          NaN  90 Seconds, the worlds Cloud Video Production ...   \n",
       "2        NaN          NaN  Valor Services provides Workforce Solutions th...   \n",
       "3      Sales          NaN  Our passion for improving quality of life thro...   \n",
       "4        NaN          NaN  SpotSource Solutions LLC is a Global Human Cap...   \n",
       "\n",
       "                                         description  \\\n",
       "0  Food52, a fast-growing, James Beard Award-winn...   \n",
       "1  Organised - Focused - Vibrant - Awesome!Do you...   \n",
       "2  Our client, located in Houston, is actively se...   \n",
       "3  THE COMPANY: ESRI – Environmental Systems Rese...   \n",
       "4  JOB TITLE: Itemization Review ManagerLOCATION:...   \n",
       "\n",
       "                                        requirements  \\\n",
       "0  Experience with content management systems a m...   \n",
       "1  What we expect from you:Your key responsibilit...   \n",
       "2  Implement pre-commissioning and commissioning ...   \n",
       "3  EDUCATION: Bachelor’s or Master’s in GIS, busi...   \n",
       "4  QUALIFICATIONS:RN license in the State of Texa...   \n",
       "\n",
       "                                            benefits  telecommuting  \\\n",
       "0                                                NaN              0   \n",
       "1  What you will get from usThrough being part of...              0   \n",
       "2                                                NaN              0   \n",
       "3  Our culture is anything but corporate—we have ...              0   \n",
       "4                              Full Benefits Offered              0   \n",
       "\n",
       "   has_company_logo  has_questions employment_type required_experience  \\\n",
       "0                 1              0           Other          Internship   \n",
       "1                 1              0       Full-time      Not Applicable   \n",
       "2                 1              0             NaN                 NaN   \n",
       "3                 1              0       Full-time    Mid-Senior level   \n",
       "4                 1              1       Full-time    Mid-Senior level   \n",
       "\n",
       "  required_education                   industry              function  \\\n",
       "0                NaN                        NaN             Marketing   \n",
       "1                NaN  Marketing and Advertising      Customer Service   \n",
       "2                NaN                        NaN                   NaN   \n",
       "3  Bachelor's Degree          Computer Software                 Sales   \n",
       "4  Bachelor's Degree     Hospital & Health Care  Health Care Provider   \n",
       "\n",
       "   fraudulent  \n",
       "0           0  \n",
       "1           0  \n",
       "2           0  \n",
       "3           0  \n",
       "4           0  "
      ]
     },
     "execution_count": 2,
     "metadata": {},
     "output_type": "execute_result"
    }
   ],
   "source": [
    "fake_jobs.head()"
   ]
  },
  {
   "cell_type": "code",
   "execution_count": 3,
   "metadata": {
    "id": "Ff_m_d26KCVW"
   },
   "outputs": [
    {
     "data": {
      "text/html": [
       "<div>\n",
       "<style scoped>\n",
       "    .dataframe tbody tr th:only-of-type {\n",
       "        vertical-align: middle;\n",
       "    }\n",
       "\n",
       "    .dataframe tbody tr th {\n",
       "        vertical-align: top;\n",
       "    }\n",
       "\n",
       "    .dataframe thead th {\n",
       "        text-align: right;\n",
       "    }\n",
       "</style>\n",
       "<table border=\"1\" class=\"dataframe\">\n",
       "  <thead>\n",
       "    <tr style=\"text-align: right;\">\n",
       "      <th></th>\n",
       "      <th>job_id</th>\n",
       "      <th>telecommuting</th>\n",
       "      <th>has_company_logo</th>\n",
       "      <th>has_questions</th>\n",
       "      <th>fraudulent</th>\n",
       "    </tr>\n",
       "  </thead>\n",
       "  <tbody>\n",
       "    <tr>\n",
       "      <th>count</th>\n",
       "      <td>17880.000000</td>\n",
       "      <td>17880.000000</td>\n",
       "      <td>17880.000000</td>\n",
       "      <td>17880.000000</td>\n",
       "      <td>17880.000000</td>\n",
       "    </tr>\n",
       "    <tr>\n",
       "      <th>mean</th>\n",
       "      <td>8940.500000</td>\n",
       "      <td>0.042897</td>\n",
       "      <td>0.795302</td>\n",
       "      <td>0.491723</td>\n",
       "      <td>0.048434</td>\n",
       "    </tr>\n",
       "    <tr>\n",
       "      <th>std</th>\n",
       "      <td>5161.655742</td>\n",
       "      <td>0.202631</td>\n",
       "      <td>0.403492</td>\n",
       "      <td>0.499945</td>\n",
       "      <td>0.214688</td>\n",
       "    </tr>\n",
       "    <tr>\n",
       "      <th>min</th>\n",
       "      <td>1.000000</td>\n",
       "      <td>0.000000</td>\n",
       "      <td>0.000000</td>\n",
       "      <td>0.000000</td>\n",
       "      <td>0.000000</td>\n",
       "    </tr>\n",
       "    <tr>\n",
       "      <th>25%</th>\n",
       "      <td>4470.750000</td>\n",
       "      <td>0.000000</td>\n",
       "      <td>1.000000</td>\n",
       "      <td>0.000000</td>\n",
       "      <td>0.000000</td>\n",
       "    </tr>\n",
       "    <tr>\n",
       "      <th>50%</th>\n",
       "      <td>8940.500000</td>\n",
       "      <td>0.000000</td>\n",
       "      <td>1.000000</td>\n",
       "      <td>0.000000</td>\n",
       "      <td>0.000000</td>\n",
       "    </tr>\n",
       "    <tr>\n",
       "      <th>75%</th>\n",
       "      <td>13410.250000</td>\n",
       "      <td>0.000000</td>\n",
       "      <td>1.000000</td>\n",
       "      <td>1.000000</td>\n",
       "      <td>0.000000</td>\n",
       "    </tr>\n",
       "    <tr>\n",
       "      <th>max</th>\n",
       "      <td>17880.000000</td>\n",
       "      <td>1.000000</td>\n",
       "      <td>1.000000</td>\n",
       "      <td>1.000000</td>\n",
       "      <td>1.000000</td>\n",
       "    </tr>\n",
       "  </tbody>\n",
       "</table>\n",
       "</div>"
      ],
      "text/plain": [
       "             job_id  telecommuting  has_company_logo  has_questions  \\\n",
       "count  17880.000000   17880.000000      17880.000000   17880.000000   \n",
       "mean    8940.500000       0.042897          0.795302       0.491723   \n",
       "std     5161.655742       0.202631          0.403492       0.499945   \n",
       "min        1.000000       0.000000          0.000000       0.000000   \n",
       "25%     4470.750000       0.000000          1.000000       0.000000   \n",
       "50%     8940.500000       0.000000          1.000000       0.000000   \n",
       "75%    13410.250000       0.000000          1.000000       1.000000   \n",
       "max    17880.000000       1.000000          1.000000       1.000000   \n",
       "\n",
       "         fraudulent  \n",
       "count  17880.000000  \n",
       "mean       0.048434  \n",
       "std        0.214688  \n",
       "min        0.000000  \n",
       "25%        0.000000  \n",
       "50%        0.000000  \n",
       "75%        0.000000  \n",
       "max        1.000000  "
      ]
     },
     "execution_count": 3,
     "metadata": {},
     "output_type": "execute_result"
    }
   ],
   "source": [
    "fake_jobs.describe()"
   ]
  },
  {
   "cell_type": "markdown",
   "metadata": {},
   "source": [
    "## C. Data Analysis and Visualization"
   ]
  },
  {
   "cell_type": "markdown",
   "metadata": {},
   "source": [
    "### C.1 Cleansing the data"
   ]
  },
  {
   "cell_type": "code",
   "execution_count": 4,
   "metadata": {},
   "outputs": [
    {
     "data": {
      "text/plain": [
       "job_id                     0\n",
       "title                      0\n",
       "location                 346\n",
       "department             11547\n",
       "salary_range           15012\n",
       "company_profile         3308\n",
       "description                1\n",
       "requirements            2695\n",
       "benefits                7210\n",
       "telecommuting              0\n",
       "has_company_logo           0\n",
       "has_questions              0\n",
       "employment_type         3471\n",
       "required_experience     7050\n",
       "required_education      8105\n",
       "industry                4903\n",
       "function                6455\n",
       "fraudulent                 0\n",
       "dtype: int64"
      ]
     },
     "execution_count": 4,
     "metadata": {},
     "output_type": "execute_result"
    }
   ],
   "source": [
    "fake_jobs.isna().sum()"
   ]
  },
  {
   "cell_type": "markdown",
   "metadata": {},
   "source": [
    "We surely can see above that there is some data missing. To tackle this, we are going to do two things. First, we are going to use the amount of missing data to our advantage. We know that the data can be missing for numerous reasons and can be classified as MAR, MCAR, and MNAR. But, the official page of the dataset says the \"records were manually annotated\". So, we can say for our analysis that the job ad had missing details if our record has any missing detail. So, we will create a new column that stores the number of missing data. This new colummn will be our fourth feature. Second, we will remove the missing data that has `NaN`s in the `employment_type` column. We will drop `NaN` only in this columns because we have no missing values for our other features."
   ]
  },
  {
   "cell_type": "code",
   "execution_count": 5,
   "metadata": {
    "id": "y43UDimTC_9L"
   },
   "outputs": [],
   "source": [
    "fake_jobs[\"no_of_missing_data\"] = fake_jobs.isnull().sum(axis=1).tolist()"
   ]
  },
  {
   "cell_type": "code",
   "execution_count": 6,
   "metadata": {},
   "outputs": [],
   "source": [
    "fake_jobs.dropna(subset=[\"employment_type\"], inplace=True)"
   ]
  },
  {
   "cell_type": "markdown",
   "metadata": {},
   "source": [
    "Furthermore, let's drop textual columns that we would not use to prettify our dataframe."
   ]
  },
  {
   "cell_type": "code",
   "execution_count": 7,
   "metadata": {},
   "outputs": [],
   "source": [
    "fake_jobs.drop(labels=[\"company_profile\", \"description\", \"requirements\", \"benefits\"], inplace=True, axis=1)"
   ]
  },
  {
   "cell_type": "code",
   "execution_count": 8,
   "metadata": {},
   "outputs": [
    {
     "data": {
      "text/html": [
       "<div>\n",
       "<style scoped>\n",
       "    .dataframe tbody tr th:only-of-type {\n",
       "        vertical-align: middle;\n",
       "    }\n",
       "\n",
       "    .dataframe tbody tr th {\n",
       "        vertical-align: top;\n",
       "    }\n",
       "\n",
       "    .dataframe thead th {\n",
       "        text-align: right;\n",
       "    }\n",
       "</style>\n",
       "<table border=\"1\" class=\"dataframe\">\n",
       "  <thead>\n",
       "    <tr style=\"text-align: right;\">\n",
       "      <th></th>\n",
       "      <th>job_id</th>\n",
       "      <th>title</th>\n",
       "      <th>location</th>\n",
       "      <th>department</th>\n",
       "      <th>salary_range</th>\n",
       "      <th>telecommuting</th>\n",
       "      <th>has_company_logo</th>\n",
       "      <th>has_questions</th>\n",
       "      <th>employment_type</th>\n",
       "      <th>required_experience</th>\n",
       "      <th>required_education</th>\n",
       "      <th>industry</th>\n",
       "      <th>function</th>\n",
       "      <th>fraudulent</th>\n",
       "      <th>no_of_missing_data</th>\n",
       "    </tr>\n",
       "  </thead>\n",
       "  <tbody>\n",
       "    <tr>\n",
       "      <th>0</th>\n",
       "      <td>1</td>\n",
       "      <td>Marketing Intern</td>\n",
       "      <td>US, NY, New York</td>\n",
       "      <td>Marketing</td>\n",
       "      <td>NaN</td>\n",
       "      <td>0</td>\n",
       "      <td>1</td>\n",
       "      <td>0</td>\n",
       "      <td>Other</td>\n",
       "      <td>Internship</td>\n",
       "      <td>NaN</td>\n",
       "      <td>NaN</td>\n",
       "      <td>Marketing</td>\n",
       "      <td>0</td>\n",
       "      <td>4</td>\n",
       "    </tr>\n",
       "    <tr>\n",
       "      <th>1</th>\n",
       "      <td>2</td>\n",
       "      <td>Customer Service - Cloud Video Production</td>\n",
       "      <td>NZ, , Auckland</td>\n",
       "      <td>Success</td>\n",
       "      <td>NaN</td>\n",
       "      <td>0</td>\n",
       "      <td>1</td>\n",
       "      <td>0</td>\n",
       "      <td>Full-time</td>\n",
       "      <td>Not Applicable</td>\n",
       "      <td>NaN</td>\n",
       "      <td>Marketing and Advertising</td>\n",
       "      <td>Customer Service</td>\n",
       "      <td>0</td>\n",
       "      <td>2</td>\n",
       "    </tr>\n",
       "    <tr>\n",
       "      <th>3</th>\n",
       "      <td>4</td>\n",
       "      <td>Account Executive - Washington DC</td>\n",
       "      <td>US, DC, Washington</td>\n",
       "      <td>Sales</td>\n",
       "      <td>NaN</td>\n",
       "      <td>0</td>\n",
       "      <td>1</td>\n",
       "      <td>0</td>\n",
       "      <td>Full-time</td>\n",
       "      <td>Mid-Senior level</td>\n",
       "      <td>Bachelor's Degree</td>\n",
       "      <td>Computer Software</td>\n",
       "      <td>Sales</td>\n",
       "      <td>0</td>\n",
       "      <td>1</td>\n",
       "    </tr>\n",
       "    <tr>\n",
       "      <th>4</th>\n",
       "      <td>5</td>\n",
       "      <td>Bill Review Manager</td>\n",
       "      <td>US, FL, Fort Worth</td>\n",
       "      <td>NaN</td>\n",
       "      <td>NaN</td>\n",
       "      <td>0</td>\n",
       "      <td>1</td>\n",
       "      <td>1</td>\n",
       "      <td>Full-time</td>\n",
       "      <td>Mid-Senior level</td>\n",
       "      <td>Bachelor's Degree</td>\n",
       "      <td>Hospital &amp; Health Care</td>\n",
       "      <td>Health Care Provider</td>\n",
       "      <td>0</td>\n",
       "      <td>2</td>\n",
       "    </tr>\n",
       "    <tr>\n",
       "      <th>6</th>\n",
       "      <td>7</td>\n",
       "      <td>Head of Content (m/f)</td>\n",
       "      <td>DE, BE, Berlin</td>\n",
       "      <td>ANDROIDPIT</td>\n",
       "      <td>20000-28000</td>\n",
       "      <td>0</td>\n",
       "      <td>1</td>\n",
       "      <td>1</td>\n",
       "      <td>Full-time</td>\n",
       "      <td>Mid-Senior level</td>\n",
       "      <td>Master's Degree</td>\n",
       "      <td>Online Media</td>\n",
       "      <td>Management</td>\n",
       "      <td>0</td>\n",
       "      <td>0</td>\n",
       "    </tr>\n",
       "  </tbody>\n",
       "</table>\n",
       "</div>"
      ],
      "text/plain": [
       "   job_id                                      title            location  \\\n",
       "0       1                           Marketing Intern    US, NY, New York   \n",
       "1       2  Customer Service - Cloud Video Production      NZ, , Auckland   \n",
       "3       4          Account Executive - Washington DC  US, DC, Washington   \n",
       "4       5                        Bill Review Manager  US, FL, Fort Worth   \n",
       "6       7                      Head of Content (m/f)      DE, BE, Berlin   \n",
       "\n",
       "   department salary_range  telecommuting  has_company_logo  has_questions  \\\n",
       "0   Marketing          NaN              0                 1              0   \n",
       "1     Success          NaN              0                 1              0   \n",
       "3       Sales          NaN              0                 1              0   \n",
       "4         NaN          NaN              0                 1              1   \n",
       "6  ANDROIDPIT  20000-28000              0                 1              1   \n",
       "\n",
       "  employment_type required_experience required_education  \\\n",
       "0           Other          Internship                NaN   \n",
       "1       Full-time      Not Applicable                NaN   \n",
       "3       Full-time    Mid-Senior level  Bachelor's Degree   \n",
       "4       Full-time    Mid-Senior level  Bachelor's Degree   \n",
       "6       Full-time    Mid-Senior level    Master's Degree   \n",
       "\n",
       "                    industry              function  fraudulent  \\\n",
       "0                        NaN             Marketing           0   \n",
       "1  Marketing and Advertising      Customer Service           0   \n",
       "3          Computer Software                 Sales           0   \n",
       "4     Hospital & Health Care  Health Care Provider           0   \n",
       "6               Online Media            Management           0   \n",
       "\n",
       "   no_of_missing_data  \n",
       "0                   4  \n",
       "1                   2  \n",
       "3                   1  \n",
       "4                   2  \n",
       "6                   0  "
      ]
     },
     "execution_count": 8,
     "metadata": {},
     "output_type": "execute_result"
    }
   ],
   "source": [
    "fake_jobs.head()"
   ]
  },
  {
   "cell_type": "markdown",
   "metadata": {},
   "source": [
    "### C.2 Exploratory Data Analysis\n",
    "\n",
    "Now, let's try to interpret the data by visualization. Rephrased, let's explore the distribution of the data across the features of our interest."
   ]
  },
  {
   "cell_type": "code",
   "execution_count": 9,
   "metadata": {},
   "outputs": [],
   "source": [
    "import matplotlib.pyplot as plt\n",
    "import seaborn as sns"
   ]
  },
  {
   "cell_type": "code",
   "execution_count": 10,
   "metadata": {
    "scrolled": false
   },
   "outputs": [
    {
     "data": {
      "image/png": "[encoded data removed]",
      "text/plain": [
       "<Figure size 432x288 with 1 Axes>"
      ]
     },
     "metadata": {
      "needs_background": "light"
     },
     "output_type": "display_data"
    }
   ],
   "source": [
    "sns.countplot(\n",
    "    x=\"employment_type\",\n",
    "    hue=\"fraudulent\",\n",
    "    data=fake_jobs\n",
    ")\n",
    "plt.xlabel(\"Employment Type\")\n",
    "plt.ylabel(\"Frequency\")\n",
    "plt.title(\"Count of Employment Types\", fontsize=20)\n",
    "plt.show()"
   ]
  },
  {
   "cell_type": "markdown",
   "metadata": {},
   "source": [
    "We observe that most of the fake jobs are full-time jobs. So, the relationship between `employment_type` and `fraudulent` is ambigious such that the peak value for both values, fraud and legitimate jobs, occur when the job is full-time."
   ]
  },
  {
   "cell_type": "markdown",
   "metadata": {},
   "source": [
    "Now, lets explore the relation between `has_questions` and `fraudulent` features using a pie chart. Pie chart here is useful to determine the proportions of (`has_question`, `fraudulent`) jobs.\n",
    "\n",
    "To do that, lets first find the truth table of (`has_question`, `fraudulent`) and frequency of rows that satisfy the truth table."
   ]
  },
  {
   "cell_type": "code",
   "execution_count": 11,
   "metadata": {},
   "outputs": [
    {
     "data": {
      "text/html": [
       "<div>\n",
       "<style scoped>\n",
       "    .dataframe tbody tr th:only-of-type {\n",
       "        vertical-align: middle;\n",
       "    }\n",
       "\n",
       "    .dataframe tbody tr th {\n",
       "        vertical-align: top;\n",
       "    }\n",
       "\n",
       "    .dataframe thead th {\n",
       "        text-align: right;\n",
       "    }\n",
       "</style>\n",
       "<table border=\"1\" class=\"dataframe\">\n",
       "  <thead>\n",
       "    <tr style=\"text-align: right;\">\n",
       "      <th></th>\n",
       "      <th>truth</th>\n",
       "      <th>has_questions</th>\n",
       "      <th>fraudulent</th>\n",
       "      <th>size</th>\n",
       "    </tr>\n",
       "  </thead>\n",
       "  <tbody>\n",
       "    <tr>\n",
       "      <th>0</th>\n",
       "      <td>(0, 0)</td>\n",
       "      <td>0</td>\n",
       "      <td>0</td>\n",
       "      <td>6859</td>\n",
       "    </tr>\n",
       "    <tr>\n",
       "      <th>1</th>\n",
       "      <td>(0, 1)</td>\n",
       "      <td>0</td>\n",
       "      <td>1</td>\n",
       "      <td>432</td>\n",
       "    </tr>\n",
       "    <tr>\n",
       "      <th>2</th>\n",
       "      <td>(1, 0)</td>\n",
       "      <td>1</td>\n",
       "      <td>0</td>\n",
       "      <td>6925</td>\n",
       "    </tr>\n",
       "    <tr>\n",
       "      <th>3</th>\n",
       "      <td>(1, 1)</td>\n",
       "      <td>1</td>\n",
       "      <td>1</td>\n",
       "      <td>193</td>\n",
       "    </tr>\n",
       "  </tbody>\n",
       "</table>\n",
       "</div>"
      ],
      "text/plain": [
       "    truth  has_questions  fraudulent  size\n",
       "0  (0, 0)              0           0  6859\n",
       "1  (0, 1)              0           1   432\n",
       "2  (1, 0)              1           0  6925\n",
       "3  (1, 1)              1           1   193"
      ]
     },
     "execution_count": 11,
     "metadata": {},
     "output_type": "execute_result"
    }
   ],
   "source": [
    "has_qs_data = pd.DataFrame(fake_jobs.groupby(by=[\"has_questions\", \"fraudulent\"]))\n",
    "has_qs_data.columns = [\"truth\", \"group_obj\"]\n",
    "\n",
    "has_qs_data[[\"has_questions\", \"fraudulent\"]] = pd.DataFrame(has_qs_data[\"truth\"].tolist(), index=has_qs_data.index)\n",
    "\n",
    "size = []\n",
    "\n",
    "for i in range(4):\n",
    "    size.append(has_qs_data.loc[i][1].shape[0])\n",
    "\n",
    "has_qs_data[\"size\"] = size\n",
    "has_qs_data.drop([\"group_obj\"], axis=1, inplace=True)\n",
    "has_qs_data"
   ]
  },
  {
   "cell_type": "code",
   "execution_count": 12,
   "metadata": {},
   "outputs": [
    {
     "data": {
      "image/png": "[encoded data removed]",
      "text/plain": [
       "<Figure size 432x288 with 1 Axes>"
      ]
     },
     "metadata": {},
     "output_type": "display_data"
    }
   ],
   "source": [
    "plt.pie(has_qs_data[\"size\"], labels=has_qs_data[\"truth\"], autopct=\"%1.1f%%\", explode=(0.05, 0.05, 0.05, 0.05))\n",
    "plt.title(\"Pie Chart of has_question vs. fraudulent Truth Table\", fontsize=15)\n",
    "plt.show()"
   ]
  },
  {
   "cell_type": "markdown",
   "metadata": {},
   "source": [
    "Based on the above pie chart, we can guess that a job is highly probable to be a legitimate job when it has screening questions. However, most percent of fraud jobs do not have screening questions. "
   ]
  },
  {
   "cell_type": "markdown",
   "metadata": {},
   "source": [
    "In a similar fashion, we can analyze the relation between `telecommuting` and `fraudulent` as well."
   ]
  },
  {
   "cell_type": "code",
   "execution_count": 13,
   "metadata": {},
   "outputs": [
    {
     "data": {
      "text/html": [
       "<div>\n",
       "<style scoped>\n",
       "    .dataframe tbody tr th:only-of-type {\n",
       "        vertical-align: middle;\n",
       "    }\n",
       "\n",
       "    .dataframe tbody tr th {\n",
       "        vertical-align: top;\n",
       "    }\n",
       "\n",
       "    .dataframe thead th {\n",
       "        text-align: right;\n",
       "    }\n",
       "</style>\n",
       "<table border=\"1\" class=\"dataframe\">\n",
       "  <thead>\n",
       "    <tr style=\"text-align: right;\">\n",
       "      <th></th>\n",
       "      <th>truth</th>\n",
       "      <th>telecommuting</th>\n",
       "      <th>fraudulent</th>\n",
       "      <th>size</th>\n",
       "    </tr>\n",
       "  </thead>\n",
       "  <tbody>\n",
       "    <tr>\n",
       "      <th>0</th>\n",
       "      <td>(0, 0)</td>\n",
       "      <td>0</td>\n",
       "      <td>0</td>\n",
       "      <td>13187</td>\n",
       "    </tr>\n",
       "    <tr>\n",
       "      <th>1</th>\n",
       "      <td>(0, 1)</td>\n",
       "      <td>0</td>\n",
       "      <td>1</td>\n",
       "      <td>596</td>\n",
       "    </tr>\n",
       "    <tr>\n",
       "      <th>2</th>\n",
       "      <td>(1, 0)</td>\n",
       "      <td>1</td>\n",
       "      <td>0</td>\n",
       "      <td>597</td>\n",
       "    </tr>\n",
       "    <tr>\n",
       "      <th>3</th>\n",
       "      <td>(1, 1)</td>\n",
       "      <td>1</td>\n",
       "      <td>1</td>\n",
       "      <td>29</td>\n",
       "    </tr>\n",
       "  </tbody>\n",
       "</table>\n",
       "</div>"
      ],
      "text/plain": [
       "    truth  telecommuting  fraudulent   size\n",
       "0  (0, 0)              0           0  13187\n",
       "1  (0, 1)              0           1    596\n",
       "2  (1, 0)              1           0    597\n",
       "3  (1, 1)              1           1     29"
      ]
     },
     "execution_count": 13,
     "metadata": {},
     "output_type": "execute_result"
    }
   ],
   "source": [
    "remote_data = pd.DataFrame(fake_jobs.groupby(by=[\"telecommuting\", \"fraudulent\"]))\n",
    "remote_data.columns = [\"truth\", \"group_obj\"]\n",
    "\n",
    "remote_data[[\"telecommuting\", \"fraudulent\"]] = pd.DataFrame(remote_data[\"truth\"].tolist(), index=remote_data.index)\n",
    "\n",
    "size = []\n",
    "\n",
    "for i in range(4):\n",
    "    size.append(remote_data.loc[i][1].shape[0])\n",
    "\n",
    "remote_data[\"size\"] = size\n",
    "remote_data.drop([\"group_obj\"], axis=1, inplace=True)\n",
    "remote_data"
   ]
  },
  {
   "cell_type": "code",
   "execution_count": 14,
   "metadata": {
    "scrolled": false
   },
   "outputs": [
    {
     "data": {
      "image/png": "[encoded data removed]",
      "text/plain": [
       "<Figure size 432x288 with 1 Axes>"
      ]
     },
     "metadata": {},
     "output_type": "display_data"
    }
   ],
   "source": [
    "plt.pie(remote_data[\"size\"], labels=remote_data[\"truth\"], autopct=\"%1.1f%%\", explode=(0.05, 0.05, 0.05, 0.05))\n",
    "plt.title(\"Pie Chart of telecommuting vs. fraudulent Truth Table\", fontsize=15)\n",
    "plt.show()"
   ]
  },
  {
   "cell_type": "markdown",
   "metadata": {},
   "source": [
    "From the pie chart above, the ad is highly probable to be a legitimate one when it is not remote. However, we cannot say anything about a job that is remote and fraud at the same time because of its low proportion."
   ]
  },
  {
   "cell_type": "markdown",
   "metadata": {},
   "source": [
    "Now, lets explore the relation between the legitimacy of a job and the amount of missing data using a scatterplot."
   ]
  },
  {
   "cell_type": "code",
   "execution_count": 15,
   "metadata": {
    "scrolled": false
   },
   "outputs": [
    {
     "data": {
      "image/png": "[encoded data removed]",
      "text/plain": [
       "<Figure size 432x288 with 1 Axes>"
      ]
     },
     "metadata": {
      "needs_background": "light"
     },
     "output_type": "display_data"
    }
   ],
   "source": [
    "graph = sns.boxplot(\n",
    "    data=fake_jobs,\n",
    "    y=\"no_of_missing_data\",\n",
    "    hue=\"fraudulent\",\n",
    "    x=\"fraudulent\"\n",
    ")\n",
    "plt.ylabel(\"Frequency of missing data\")\n",
    "plt.xlabel(\"Fraudulent (binary)\")\n",
    "plt.title(\"Amount of missing data for fraud and legitimate job ads.\", fontsize=15)\n",
    "graph.set(ylim=(0,10))\n",
    "plt.show()"
   ]
  },
  {
   "cell_type": "markdown",
   "metadata": {},
   "source": [
    "Here, we can observe that illegitimate jobs have more missing details about the job than the legitimate ones. In fact, at least one of the fraud job ads have 9 details missing (2 details more than a legitimate job ad). Hence, we can infer that the probability of a job ad being fraud increases as the amount of missing details increases. "
   ]
  },
  {
   "cell_type": "markdown",
   "metadata": {},
   "source": [
    "## D. Regression Model"
   ]
  },
  {
   "cell_type": "markdown",
   "metadata": {},
   "source": [
    "In the EDA section, we saw that there is direct relation of `telecommuting`, `employment_type` and `no_of_missing_data` with `fraudulent` and an indirect one of `has_questions` with `fraudulent`. Now, lets fit a model that would establish a clear relation between our features and the flag and be able to classify any new job ads as fraud or not. Since our output variable (`fraudulent`) is binary, lets choose to train a logistic regression model."
   ]
  },
  {
   "cell_type": "markdown",
   "metadata": {},
   "source": [
    "### D.0 Prettifying the data\n",
    "\n",
    "But before we jump into the regression, lets prettify our dataframe. Lets give discrete numerical values to the discrete string values of `employment_type` so that it can be used in training the model based on the following mapping:\n",
    "\n",
    " * Full-time = 4\n",
    " * Part-time = 3\n",
    " * Contract = 2\n",
    " * Temporary = 1\n",
    " * Other = 0\n",
    "    \n",
    "The numbers have been chosen based on the dedication level of an employee to the company/job."
   ]
  },
  {
   "cell_type": "code",
   "execution_count": 16,
   "metadata": {},
   "outputs": [],
   "source": [
    "import sklearn.preprocessing as pp\n",
    "\n",
    "mapping = [\"Other\", \"Temporary\", \"Contract\", \"Part-time\", \"Full-time\"]\n",
    "\n",
    "le = pp.OrdinalEncoder(categories=[mapping],dtype=np.int_)\n",
    "\n",
    "fake_jobs[[\"employment_type\"]] = le.fit_transform(fake_jobs[[\"employment_type\"]])"
   ]
  },
  {
   "cell_type": "markdown",
   "metadata": {},
   "source": [
    "Lets extract the features of interest for training a model."
   ]
  },
  {
   "cell_type": "code",
   "execution_count": 17,
   "metadata": {},
   "outputs": [
    {
     "data": {
      "text/html": [
       "<div>\n",
       "<style scoped>\n",
       "    .dataframe tbody tr th:only-of-type {\n",
       "        vertical-align: middle;\n",
       "    }\n",
       "\n",
       "    .dataframe tbody tr th {\n",
       "        vertical-align: top;\n",
       "    }\n",
       "\n",
       "    .dataframe thead th {\n",
       "        text-align: right;\n",
       "    }\n",
       "</style>\n",
       "<table border=\"1\" class=\"dataframe\">\n",
       "  <thead>\n",
       "    <tr style=\"text-align: right;\">\n",
       "      <th></th>\n",
       "      <th>telecommuting</th>\n",
       "      <th>employment_type</th>\n",
       "      <th>has_questions</th>\n",
       "      <th>no_of_missing_data</th>\n",
       "      <th>fraudulent</th>\n",
       "    </tr>\n",
       "  </thead>\n",
       "  <tbody>\n",
       "    <tr>\n",
       "      <th>0</th>\n",
       "      <td>0</td>\n",
       "      <td>0</td>\n",
       "      <td>0</td>\n",
       "      <td>4</td>\n",
       "      <td>0</td>\n",
       "    </tr>\n",
       "    <tr>\n",
       "      <th>1</th>\n",
       "      <td>0</td>\n",
       "      <td>4</td>\n",
       "      <td>0</td>\n",
       "      <td>2</td>\n",
       "      <td>0</td>\n",
       "    </tr>\n",
       "    <tr>\n",
       "      <th>3</th>\n",
       "      <td>0</td>\n",
       "      <td>4</td>\n",
       "      <td>0</td>\n",
       "      <td>1</td>\n",
       "      <td>0</td>\n",
       "    </tr>\n",
       "    <tr>\n",
       "      <th>4</th>\n",
       "      <td>0</td>\n",
       "      <td>4</td>\n",
       "      <td>1</td>\n",
       "      <td>2</td>\n",
       "      <td>0</td>\n",
       "    </tr>\n",
       "    <tr>\n",
       "      <th>6</th>\n",
       "      <td>0</td>\n",
       "      <td>4</td>\n",
       "      <td>1</td>\n",
       "      <td>0</td>\n",
       "      <td>0</td>\n",
       "    </tr>\n",
       "  </tbody>\n",
       "</table>\n",
       "</div>"
      ],
      "text/plain": [
       "   telecommuting  employment_type  has_questions  no_of_missing_data  \\\n",
       "0              0                0              0                   4   \n",
       "1              0                4              0                   2   \n",
       "3              0                4              0                   1   \n",
       "4              0                4              1                   2   \n",
       "6              0                4              1                   0   \n",
       "\n",
       "   fraudulent  \n",
       "0           0  \n",
       "1           0  \n",
       "3           0  \n",
       "4           0  \n",
       "6           0  "
      ]
     },
     "execution_count": 17,
     "metadata": {},
     "output_type": "execute_result"
    }
   ],
   "source": [
    "fake_jobs_for_model = fake_jobs[[\"telecommuting\", \"employment_type\", \"has_questions\", \"no_of_missing_data\", \"fraudulent\"]]\n",
    "fake_jobs_for_model.head()"
   ]
  },
  {
   "cell_type": "markdown",
   "metadata": {},
   "source": [
    "### D.1 Splitting the data and standardization\n",
    "\n",
    "Now, lets split the data into train and test data. First, lets differentiate between our y and x features in the dataframe. Then, we will split our x's and y's into train and test data with `test_size = 20%`."
   ]
  },
  {
   "cell_type": "code",
   "execution_count": 18,
   "metadata": {},
   "outputs": [
    {
     "name": "stdout",
     "output_type": "stream",
     "text": [
      "y.shape =  (14409,)\n",
      "x.shape =  (14409, 4)\n"
     ]
    }
   ],
   "source": [
    "y = fake_jobs_for_model[\"fraudulent\"]\n",
    "x = fake_jobs_for_model.drop(\"fraudulent\", axis=1)\n",
    "\n",
    "print(\"y.shape = \", y.shape)\n",
    "print(\"x.shape = \", x.shape)"
   ]
  },
  {
   "cell_type": "code",
   "execution_count": 19,
   "metadata": {},
   "outputs": [],
   "source": [
    "from sklearn.preprocessing import StandardScaler\n",
    "\n",
    "scaler = StandardScaler()\n",
    "\n",
    "x_prime = scaler.fit_transform(x)"
   ]
  },
  {
   "cell_type": "code",
   "execution_count": 20,
   "metadata": {},
   "outputs": [
    {
     "name": "stdout",
     "output_type": "stream",
     "text": [
      "x_train.shape =  (11527, 4)\n",
      "x_test.shape =  (2882, 4)\n",
      "y_train.shape =  (11527,)\n",
      "y_test.shape =  (2882,)\n"
     ]
    }
   ],
   "source": [
    "from sklearn.model_selection import train_test_split\n",
    "\n",
    "x_train, x_test, y_train, y_test = train_test_split(x_prime, y, test_size=0.2)\n",
    "\n",
    "print(\"x_train.shape = \", x_train.shape)\n",
    "print(\"x_test.shape = \", x_test.shape)\n",
    "print(\"y_train.shape = \", y_train.shape)\n",
    "print(\"y_test.shape = \", y_test.shape)"
   ]
  },
  {
   "cell_type": "markdown",
   "metadata": {},
   "source": [
    "### D.2 Training the Model \n",
    "\n",
    "Here, we will instantiate a LogisticRegression model, train it, and use it to predict values."
   ]
  },
  {
   "cell_type": "code",
   "execution_count": 21,
   "metadata": {},
   "outputs": [
    {
     "data": {
      "text/plain": [
       "LogisticRegression(solver='newton-cg')"
      ]
     },
     "execution_count": 21,
     "metadata": {},
     "output_type": "execute_result"
    }
   ],
   "source": [
    "from sklearn.linear_model import LogisticRegression\n",
    "\n",
    "model = LogisticRegression(solver=\"newton-cg\", penalty=\"l2\")\n",
    "\n",
    "model.fit(x_train, y_train)"
   ]
  },
  {
   "cell_type": "code",
   "execution_count": 22,
   "metadata": {},
   "outputs": [],
   "source": [
    "predictions = model.predict(x_test)"
   ]
  },
  {
   "cell_type": "markdown",
   "metadata": {},
   "source": [
    "### D.3 Measuring model performance\n",
    "\n",
    "Here, we take a look at several measures to evaluate a model's performance."
   ]
  },
  {
   "cell_type": "markdown",
   "metadata": {},
   "source": [
    "#### D.3.1 Score of the model\n",
    "\n",
    "The score of a model is its mean accuracy of predicting positives and negatives correctly."
   ]
  },
  {
   "cell_type": "code",
   "execution_count": 23,
   "metadata": {},
   "outputs": [
    {
     "name": "stdout",
     "output_type": "stream",
     "text": [
      "Accuracy of the model = 95.45454545454545%\n"
     ]
    }
   ],
   "source": [
    "score = model.score(x_test, y_test)\n",
    "\n",
    "print(\"Accuracy of the model = \" + str(score * 100) + \"%\")"
   ]
  },
  {
   "cell_type": "markdown",
   "metadata": {},
   "source": [
    "#### D.3.2 Confusion Matrix\n",
    "\n",
    "A confusion matrix is a matrix that gives us the distribution of true positive and negatives and false negatives and positives."
   ]
  },
  {
   "cell_type": "code",
   "execution_count": 24,
   "metadata": {},
   "outputs": [],
   "source": [
    "from sklearn.metrics import confusion_matrix"
   ]
  },
  {
   "cell_type": "code",
   "execution_count": 25,
   "metadata": {},
   "outputs": [
    {
     "data": {
      "image/png": "[encoded data removed]",
      "text/plain": [
       "<Figure size 432x288 with 2 Axes>"
      ]
     },
     "metadata": {
      "needs_background": "light"
     },
     "output_type": "display_data"
    }
   ],
   "source": [
    "cm = confusion_matrix(y_test, predictions)\n",
    "\n",
    "sns.heatmap(\n",
    "    cm,\n",
    "    annot=True,\n",
    "    fmt=\"d\",\n",
    "    linewidths=0.5\n",
    ")\n",
    "plt.ylabel(\"Actual values\")\n",
    "plt.xlabel(\"Predicted values\")\n",
    "plt.title(\"Confusion matrix\", fontsize=15)\n",
    "plt.show()"
   ]
  },
  {
   "cell_type": "markdown",
   "metadata": {},
   "source": [
    "#### D.3.3 Confusion Matrix Evaluation"
   ]
  },
  {
   "cell_type": "code",
   "execution_count": 26,
   "metadata": {},
   "outputs": [],
   "source": [
    "tn, fp, fn, tp = cm.ravel()"
   ]
  },
  {
   "cell_type": "markdown",
   "metadata": {},
   "source": [
    "It is the time interpret meaningful values from the confusion matrix. Confusion matrix plots true negatives, false positives, false negatives, true positives. We can compute several measures using these values.\n",
    "\n",
    " * **Accuracy:** It is the number of correct predictions divided by the total number of predictions. Obviously, a high accuracy is good.\n",
    " \n",
    " $$ Accuracy = \\frac{(tp + tn)}{(tp + fp + tn + fn)} $$ \n",
    " \n",
    " * **Error rate:** It is the number of times an incorrect value is predicted. Obviously, a low error rate is good.\n",
    " \n",
    " $$ Error\\ rate = \\frac{(fp + fn)}{(tp + fp + tn + fn)} $$ \n",
    " \n",
    " * **Recall:** It is the number of true positives divided by the total positives. It is also called sensitivity. A high recall value is good because we want to increase the proportion of true positives in total positives.\n",
    " \n",
    " $$ Recall = \\frac{tp}{(tp + fp)} $$ \n",
    " \n",
    " * **Specificity:** It is number of true negatives divided by the total negatives. Again, a high specificity value is good because we want to increase the proportion of true negatives in total negatives.\n",
    " \n",
    " $$ Specificity = \\frac{tn}{(tn + fn)} $$ "
   ]
  },
  {
   "cell_type": "markdown",
   "metadata": {},
   "source": [
    "**Note:** Here, please note that our model predicts for a fake job ad. That is, a true positive occurs when a model predicts a job ad as fraud and the ad is actually fraud. So, the above measures are oriented accordingly to identify a fake job."
   ]
  },
  {
   "cell_type": "code",
   "execution_count": 27,
   "metadata": {},
   "outputs": [
    {
     "name": "stdout",
     "output_type": "stream",
     "text": [
      "Accuracy of the model =  0.9545454545454546\n",
      "Error rate of the model =  0.045454545454545456\n",
      "Recall of the model =  nan\n",
      "Specificity of the model =  0.9545454545454546\n"
     ]
    },
    {
     "name": "stderr",
     "output_type": "stream",
     "text": [
      "<ipython-input-27-dae7227a37c2>:3: RuntimeWarning: invalid value encountered in long_scalars\n",
      "  print(\"Recall of the model = \", tp / (tp + fp))\n"
     ]
    }
   ],
   "source": [
    "print(\"Accuracy of the model = \", (tp + tn) / (tp + fp + tn + fn))\n",
    "print(\"Error rate of the model = \", (fp + fn) / (tp + fp + tn + fn))\n",
    "print(\"Recall of the model = \", tp / (tp + fp))\n",
    "print(\"Specificity of the model = \", tn / (tn + fn))"
   ]
  },
  {
   "cell_type": "markdown",
   "metadata": {},
   "source": [
    "Above, the recall value is `NaN`. Actually, it is `0/0` because we have `tp = 0` and `fp = 0` from the matrix."
   ]
  },
  {
   "cell_type": "markdown",
   "metadata": {},
   "source": [
    "We saw that we have 0 positive cases. This means that our model was not able to classify a fake job ad at all. This happens because our data is imbalanced. In the information about the dataset, we saw that we have 866 fake job ad against 17,014 legitimates ones. Furthermore, we dropped some records while cleaning the data set. So, our model could not observe a fake job ad more. That is why our model predicts \"not a fake\" job (true negative) more accurately from the confusion matrix."
   ]
  },
  {
   "cell_type": "markdown",
   "metadata": {},
   "source": [
    "#### D.3.4 Receiver Operating Characteristic (ROC) Curve\n",
    "\n",
    "An ROC curve is a graph showing true positive rate vs. false positive rate. It is a tradeoff of recall and specificity. Area under the ROC Curve (AUC) is score that determines the worthness of the classifier. Where the AUC score of 1 represents a perfect classifier, the AUC score of 0.5 is worthless. So, we want our AUC score to be `0.5 < AUC Score <= 1`."
   ]
  },
  {
   "cell_type": "code",
   "execution_count": 28,
   "metadata": {},
   "outputs": [],
   "source": [
    "from sklearn.metrics import roc_curve, roc_auc_score, RocCurveDisplay\n",
    "\n",
    "y_pred_proba = model.predict_proba(x_test)[::,1]\n",
    "false_pos_rate, true_pos_rate, _ = roc_curve(y_test, y_pred_proba)\n",
    "auc = roc_auc_score(y_test, y_pred_proba)"
   ]
  },
  {
   "cell_type": "code",
   "execution_count": 29,
   "metadata": {},
   "outputs": [
    {
     "data": {
      "image/png": "[encoded data removed]",
      "text/plain": [
       "<Figure size 432x288 with 1 Axes>"
      ]
     },
     "metadata": {
      "needs_background": "light"
     },
     "output_type": "display_data"
    }
   ],
   "source": [
    "roc_graph = RocCurveDisplay(fpr=false_pos_rate,tpr=true_pos_rate, roc_auc=auc)\n",
    "roc_graph.plot()\n",
    "plt.title(\"ROC Curve\")\n",
    "plt.show()"
   ]
  },
  {
   "cell_type": "markdown",
   "metadata": {},
   "source": [
    "Our AUC score is 0.59 which is fair. The value falls in the desired interval above. It would have been closer to 1 if the dataset was balanced."
   ]
  },
  {
   "cell_type": "markdown",
   "metadata": {},
   "source": [
    "#### D.3.5 Feature Importance\n",
    "\n",
    "Now, lets examine the contribution of each feature to the classification."
   ]
  },
  {
   "cell_type": "code",
   "execution_count": 30,
   "metadata": {},
   "outputs": [
    {
     "name": "stdout",
     "output_type": "stream",
     "text": [
      "Feature: 0, Score: 0.06409\n",
      "Feature: 1, Score: 0.00775\n",
      "Feature: 2, Score: -0.39955\n",
      "Feature: 3, Score: 0.08630\n"
     ]
    }
   ],
   "source": [
    "importance = model.coef_[0]\n",
    "for i, v in enumerate(importance):\n",
    "    print(\"Feature: %0d, Score: %0.5f\" % (i,v))"
   ]
  },
  {
   "cell_type": "code",
   "execution_count": 31,
   "metadata": {},
   "outputs": [
    {
     "name": "stderr",
     "output_type": "stream",
     "text": [
      "/opt/conda/lib/python3.8/site-packages/seaborn/_decorators.py:36: FutureWarning: Pass the following variables as keyword args: x, y. From version 0.12, the only valid positional argument will be `data`, and passing other arguments without an explicit keyword will result in an error or misinterpretation.\n",
      "  warnings.warn(\n"
     ]
    },
    {
     "data": {
      "image/png": "[encoded data removed]",
      "text/plain": [
       "<Figure size 432x288 with 1 Axes>"
      ]
     },
     "metadata": {
      "needs_background": "light"
     },
     "output_type": "display_data"
    }
   ],
   "source": [
    "sns.barplot([x for x in range(len(importance))], importance)\n",
    "plt.xlabel(\"Feature#\")\n",
    "plt.ylabel(\"Score\")\n",
    "plt.title(\"Features score barplot\")\n",
    "plt.show()"
   ]
  },
  {
   "cell_type": "markdown",
   "metadata": {},
   "source": [
    "Here, note that since our model is a classification kind, a postive score means that that feature predicts 1 (true) for 1 input and a negative score means that that feature predicts 0 (false) for 1 input. Feature 0 is `telecommuting`, feature 1 is `employment_type`, feature 2 is `has_questions`, and feature 3 is `no_of_missing_data`. We see that feature 2 is the highest contributing feature. Its negative score means that when there are screening questions, the job is highly likely to be a legitimate (not fraud or 0) one. Then, the feature 1 is `employment_type` which is categorical. Here, our model tries to categorize a full-time job as a fake one with a positive score. This is an ambigious relation because we saw in EDA that the most of both, legitimate and fake, jobs were full-time. But, the ratio of full-time jobs in fake jobs was more than the ratio of full-time jobs in legitimate jobs. So, our model always has a small instinct (smal positive score) that a full-time could be fake. This interpretation is because we labelled full-time job as 4 and so on.\n",
    "\n",
    "Connecting our EDA section with the observation, we predicted in the EDA section that a job is likely to a legitimate one when it is not remote, has screening questions, and has less amount of missing details. Our corresponding scores for these features proves our prediction. We also predicted the ambiguity in the relation of feature 1 and `fraudulent`. From a very small positive score of feature 1, we can infer that it is not a big classification factor. It has been influenced to be positive because of the ratio of full-time jobs in the fake ones."
   ]
  },
  {
   "cell_type": "markdown",
   "metadata": {},
   "source": [
    "## E. Conclusion\n",
    "\n",
    "To determine the legitimacy of a job, we performed exploratory data analysis and logistic regression on our data. In EDA, we predicted a direct relation of features 0, 1, and 3 with `fraudulent` and an inverse relation of feature 2 with `fraudulent`. The regression model feature scores established that there is indeed a direct relation of features 0 and 3 and an indirect relation of feature 2 with `fraudulent`. Moreover, the feature 1 has still an ambiguous relationship with `fraudulent`. A possible reason for this ambiguity is that our dataset was imbalanced. Our model observed less amount of fake job ads. So, we need a more balanced dataset to make our classifier more accurate. This dataset is insufficient for the classification model. Even with this dataset, we able to achieve an accuracy of 95.45% and an AUC score of 0.59 which is fair. But, our model never predicted a fraud job at all. We can perform better with a better dataset. To conclude about the relation of features with the legitimacy of a job, a job is likely to be legitimate when it has screening questions, is not remote, is full-time, and less amount of missing details. Again, our dataset was imbalanced because of which our model scores and confusion matrix predicted legitimate job ad. This severly imbalanced dataset cannot be used further for data science analysis. We have not successfully and convincingly established a relation between the features. A better dataset is needed to improve our model's metrics."
   ]
  },
  {
   "cell_type": "code",
   "execution_count": null,
   "metadata": {},
   "outputs": [],
   "source": []
  }
 ],
 "metadata": {
  "colab": {
   "collapsed_sections": [],
   "name": "CMSC320 Final Project",
   "provenance": []
  },
  "kernelspec": {
   "display_name": "Python 3",
   "language": "python",
   "name": "python3"
  },
  "language_info": {
   "codemirror_mode": {
    "name": "ipython",
    "version": 3
   },
   "file_extension": ".py",
   "mimetype": "text/x-python",
   "name": "python",
   "nbconvert_exporter": "python",
   "pygments_lexer": "ipython3",
   "version": "3.8.6"
  }
 },
 "nbformat": 4,
 "nbformat_minor": 1
}
